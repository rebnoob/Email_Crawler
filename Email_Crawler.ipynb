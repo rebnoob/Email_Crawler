{
  "nbformat": 4,
  "nbformat_minor": 0,
  "metadata": {
    "colab": {
      "provenance": [],
      "authorship_tag": "ABX9TyNNbVfYV7W2a996QN5ZdFA9",
      "include_colab_link": true
    },
    "kernelspec": {
      "name": "python3",
      "display_name": "Python 3"
    },
    "language_info": {
      "name": "python"
    }
  },
  "cells": [
    {
      "cell_type": "markdown",
      "metadata": {
        "id": "view-in-github",
        "colab_type": "text"
      },
      "source": [
        "<a href=\"https://colab.research.google.com/github/rebnoob/Email_Crawler/blob/main/Email_Crawler.ipynb\" target=\"_parent\"><img src=\"https://colab.research.google.com/assets/colab-badge.svg\" alt=\"Open In Colab\"/></a>"
      ]
    },
    {
      "cell_type": "markdown",
      "source": [
        "# Imports and Updates"
      ],
      "metadata": {
        "id": "tJP_PGOdH8QK"
      }
    },
    {
      "cell_type": "code",
      "source": [
        "!apt-get update"
      ],
      "metadata": {
        "id": "vG-pQ-RgVHP4"
      },
      "execution_count": null,
      "outputs": []
    },
    {
      "cell_type": "code",
      "source": [
        "# Install selenium\n",
        "!pip install selenium"
      ],
      "metadata": {
        "id": "jMgDG9RcVIfH"
      },
      "execution_count": null,
      "outputs": []
    },
    {
      "cell_type": "code",
      "source": [
        "!apt install firefox-geckodriver\n",
        "!cp /usr/lib/geckodriver /usr/bin\n",
        "!cp /usr/lib/firefox /usr/bin"
      ],
      "metadata": {
        "id": "MTyeHPNxVLNG"
      },
      "execution_count": null,
      "outputs": []
    },
    {
      "cell_type": "code",
      "source": [
        "import argparse\n",
        "from datetime import timedelta\n",
        "from selenium import webdriver\n",
        "from selenium.webdriver.common.by import By\n",
        "import pandas as pd\n",
        "import numpy as np\n",
        "from selenium import webdriver\n",
        "import time\n",
        "import re\n",
        "from bs4 import BeautifulSoup\n",
        "import requests"
      ],
      "metadata": {
        "id": "jw6s7y0KVNNG"
      },
      "execution_count": null,
      "outputs": []
    },
    {
      "cell_type": "markdown",
      "source": [
        "# Real Stuff"
      ],
      "metadata": {
        "id": "rQA_g5NjIBS_"
      }
    },
    {
      "cell_type": "markdown",
      "source": [
        "## Browser Setting"
      ],
      "metadata": {
        "id": "fO6VrHvQIx6a"
      }
    },
    {
      "cell_type": "code",
      "source": [
        "#Browser Setting\n",
        "ffops = webdriver.FirefoxOptions()\n",
        "ffops.headless = True\n",
        "browser = webdriver.Firefox(options=ffops, executable_path='/usr/bin/geckodriver')"
      ],
      "metadata": {
        "id": "dBHFAzdaXrNX",
        "colab": {
          "base_uri": "https://localhost:8080/"
        },
        "outputId": "8384ce52-c502-4fa7-dc0b-efc9e6973bc1"
      },
      "execution_count": null,
      "outputs": [
        {
          "output_type": "stream",
          "name": "stderr",
          "text": [
            "<ipython-input-61-b5f29f0140f0>:3: DeprecationWarning: headless property is deprecated, instead use add_argument('-headless')\n",
            "  ffops.headless = True\n",
            "<ipython-input-61-b5f29f0140f0>:4: DeprecationWarning: executable_path has been deprecated, please pass in a Service object\n",
            "  browser = webdriver.Firefox(options=ffops, executable_path='/usr/bin/geckodriver')\n"
          ]
        }
      ]
    },
    {
      "cell_type": "markdown",
      "source": [
        "## Get Email Function"
      ],
      "metadata": {
        "id": "H3V-srbuI1No"
      }
    },
    {
      "cell_type": "code",
      "source": [
        "def getEmail(url):\n",
        "  # Load the web page using Selenium\n",
        "  browser.get(url)\n",
        "\n",
        "  # Get the HTML source code of the page\n",
        "  html = browser.page_source\n",
        "\n",
        "  # Use regular expressions to extract email addresses from the HTML source code\n",
        "  email_pattern = r\"[A-Za-z0-9._%+-]+@[A-Za-z0-9.-]+\\.[A-Z|a-z]{2,4}\"\n",
        "  emails = re.findall(email_pattern, html)\n",
        "\n",
        "  # Timeout incase of error\n",
        "  time.sleep(5)\n",
        "\n",
        "  # Return Array of Emails\n",
        "  res = [*set(emails)]\n",
        "  print(res)\n",
        "  return(res)\n"
      ],
      "metadata": {
        "id": "-IV3FReSVcpg"
      },
      "execution_count": null,
      "outputs": []
    },
    {
      "cell_type": "markdown",
      "source": [
        "*Test Code*"
      ],
      "metadata": {
        "id": "kAfVwxQRKpbA"
      }
    },
    {
      "cell_type": "code",
      "source": [
        "list = [\"https://www.alvincollege.edu/careerservices/\",\"https://www.victoriacollege.edu/Explore/GettingStarted/Advising/CareerServices\"]\n",
        "for url in list:\n",
        "  getEmail(url)"
      ],
      "metadata": {
        "id": "GnoUD2vjXwO2",
        "colab": {
          "base_uri": "https://localhost:8080/"
        },
        "outputId": "f86421a6-b0e1-4b42-ecef-c5df34321611"
      },
      "execution_count": null,
      "outputs": [
        {
          "output_type": "stream",
          "name": "stdout",
          "text": [
            "['CareerServices@alvincollege.edu', 'CareerServices2@o365.alvincollege.edu']\n",
            "['AskVC@VictoriaCollege.edu', 'blake.barnhouse@victoriacollege.edu', 'Blake.Barnhouse@VictoriaCollege.edu']\n"
          ]
        }
      ]
    },
    {
      "cell_type": "markdown",
      "source": [
        "## Google Search Function"
      ],
      "metadata": {
        "id": "vTCf6g4JYnI4"
      }
    },
    {
      "cell_type": "code",
      "source": [
        "# Define a function to get the first search result link from Google search\n",
        "def getLink(search):\n",
        "  # Set the Google search URL\n",
        "  url = 'https://www.google.com/search'\n",
        "\n",
        "  # Set the HTTP request headers\n",
        "  headers = {\n",
        "\t  'Accept' : '*/*',\n",
        "\t  'Accept-Language': 'en-US,en;q=0.5',\n",
        "\t  'User-Agent': 'Mozilla/5.0 (Windows NT 10.0; Win64; x64) AppleWebKit/537.36 (KHTML, like Gecko) Chrome/98.0.4758.82',\n",
        "  }\n",
        "\n",
        "  # Set the search parameters for the Google search URL\n",
        "  parameters = {'q': search}\n",
        "\n",
        "  # Send the HTTP request to Google search and get the response content\n",
        "  content = requests.get(url, headers = headers, params = parameters).text\n",
        "\n",
        "  # Create a BeautifulSoup object with the HTML content of the response\n",
        "  soup = BeautifulSoup(content, 'html.parser')\n",
        "\n",
        "  # Find the search result section in the HTML content\n",
        "  search = soup.find(id = 'search')\n",
        "\n",
        "  # Find the first link in the search result section\n",
        "  first_link = search.find('a')\n",
        "\n",
        "  # Return the URL of the first search result link\n",
        "  return(first_link['href'])"
      ],
      "metadata": {
        "id": "h6Ba3OgnYeCQ"
      },
      "execution_count": null,
      "outputs": []
    },
    {
      "cell_type": "markdown",
      "source": [
        "## Get Link from CSV"
      ],
      "metadata": {
        "id": "h0ph5mtZKzq1"
      }
    },
    {
      "cell_type": "code",
      "source": [
        "df = pd.read_csv ('/content/MSI.csv', encoding= 'unicode_escape')\n",
        "df"
      ],
      "metadata": {
        "id": "kzc7Jhv9Y_2h"
      },
      "execution_count": null,
      "outputs": []
    },
    {
      "cell_type": "markdown",
      "source": [
        "***Instruction:*** In the textbox, enter the search term for the university and run the code to append the search link for each university in the dataframe.\n",
        "\n",
        "---\n",
        "\n",
        "***Example:*** If you want to search for the term \"Career Service\" related to universities, enter \"Career Service\" in the textbox and run the code to get the search link for each university in the dataframe."
      ],
      "metadata": {
        "id": "vRsY3fDyL3Om"
      }
    },
    {
      "cell_type": "code",
      "source": [
        "#@title Enter Search Term for the University\n",
        "searchTerm = \"Career Service\" #@param {type:\"string\"}\n",
        "link = []\n",
        "def appendLink(df):\n",
        "  for val in df[\"University Name\"]:\n",
        "    try:\n",
        "      link.append(getLink(val + searchTerm))\n",
        "    except:\n",
        "      link.append()\n",
        "      continue\n",
        "appendLink(df)\n",
        "df[\"Link\"] = link"
      ],
      "metadata": {
        "id": "qbXY-E0Kae7I"
      },
      "execution_count": null,
      "outputs": []
    },
    {
      "cell_type": "code",
      "source": [
        "df"
      ],
      "metadata": {
        "id": "s5UbX_qMgfFi",
        "colab": {
          "base_uri": "https://localhost:8080/",
          "height": 423
        },
        "outputId": "21e04a4c-630b-4a78-cf03-2ff7c47a3b23"
      },
      "execution_count": null,
      "outputs": [
        {
          "output_type": "execute_result",
          "data": {
            "text/plain": [
              "                              University Name  \\\n",
              "0                      Aaniiih Nakoda College   \n",
              "1                          Adelphi University   \n",
              "2                    Alaska Christian College   \n",
              "3                   Alaska Pacific University   \n",
              "4                    Albany Technical College   \n",
              "..                                        ...   \n",
              "287  White Earth Tribal and Community College   \n",
              "288            Williamsburg Technical College   \n",
              "289                Windward Community College   \n",
              "290                Woodland Community College   \n",
              "291                              Yuba College   \n",
              "\n",
              "                                                  Link  \n",
              "0    https://www.ancollege.edu/?page=student_servic...  \n",
              "1               https://www.adelphi.edu/career-center/  \n",
              "2    https://alaskacc.edu/campus-life/student-succe...  \n",
              "3       https://www.alaskapacific.edu/career-services/  \n",
              "4    https://www.albanytech.edu/student-affairs/car...  \n",
              "..                                                 ...  \n",
              "287              https://www.wetcc.edu/employment.html  \n",
              "288    https://www.wiltech.edu/student-success-center/  \n",
              "289  https://windward.hawaii.edu/services-for-stude...  \n",
              "290        https://wcc.yccd.edu/student/career-center/  \n",
              "291                https://yc.yccd.edu/student/career/  \n",
              "\n",
              "[292 rows x 2 columns]"
            ],
            "text/html": [
              "\n",
              "  <div id=\"df-6a2024e0-6354-4372-9ad6-1ea9629a4aa4\">\n",
              "    <div class=\"colab-df-container\">\n",
              "      <div>\n",
              "<style scoped>\n",
              "    .dataframe tbody tr th:only-of-type {\n",
              "        vertical-align: middle;\n",
              "    }\n",
              "\n",
              "    .dataframe tbody tr th {\n",
              "        vertical-align: top;\n",
              "    }\n",
              "\n",
              "    .dataframe thead th {\n",
              "        text-align: right;\n",
              "    }\n",
              "</style>\n",
              "<table border=\"1\" class=\"dataframe\">\n",
              "  <thead>\n",
              "    <tr style=\"text-align: right;\">\n",
              "      <th></th>\n",
              "      <th>University Name</th>\n",
              "      <th>Link</th>\n",
              "    </tr>\n",
              "  </thead>\n",
              "  <tbody>\n",
              "    <tr>\n",
              "      <th>0</th>\n",
              "      <td>Aaniiih Nakoda College</td>\n",
              "      <td>https://www.ancollege.edu/?page=student_servic...</td>\n",
              "    </tr>\n",
              "    <tr>\n",
              "      <th>1</th>\n",
              "      <td>Adelphi University</td>\n",
              "      <td>https://www.adelphi.edu/career-center/</td>\n",
              "    </tr>\n",
              "    <tr>\n",
              "      <th>2</th>\n",
              "      <td>Alaska Christian College</td>\n",
              "      <td>https://alaskacc.edu/campus-life/student-succe...</td>\n",
              "    </tr>\n",
              "    <tr>\n",
              "      <th>3</th>\n",
              "      <td>Alaska Pacific University</td>\n",
              "      <td>https://www.alaskapacific.edu/career-services/</td>\n",
              "    </tr>\n",
              "    <tr>\n",
              "      <th>4</th>\n",
              "      <td>Albany Technical College</td>\n",
              "      <td>https://www.albanytech.edu/student-affairs/car...</td>\n",
              "    </tr>\n",
              "    <tr>\n",
              "      <th>...</th>\n",
              "      <td>...</td>\n",
              "      <td>...</td>\n",
              "    </tr>\n",
              "    <tr>\n",
              "      <th>287</th>\n",
              "      <td>White Earth Tribal and Community College</td>\n",
              "      <td>https://www.wetcc.edu/employment.html</td>\n",
              "    </tr>\n",
              "    <tr>\n",
              "      <th>288</th>\n",
              "      <td>Williamsburg Technical College</td>\n",
              "      <td>https://www.wiltech.edu/student-success-center/</td>\n",
              "    </tr>\n",
              "    <tr>\n",
              "      <th>289</th>\n",
              "      <td>Windward Community College</td>\n",
              "      <td>https://windward.hawaii.edu/services-for-stude...</td>\n",
              "    </tr>\n",
              "    <tr>\n",
              "      <th>290</th>\n",
              "      <td>Woodland Community College</td>\n",
              "      <td>https://wcc.yccd.edu/student/career-center/</td>\n",
              "    </tr>\n",
              "    <tr>\n",
              "      <th>291</th>\n",
              "      <td>Yuba College</td>\n",
              "      <td>https://yc.yccd.edu/student/career/</td>\n",
              "    </tr>\n",
              "  </tbody>\n",
              "</table>\n",
              "<p>292 rows × 2 columns</p>\n",
              "</div>\n",
              "      <button class=\"colab-df-convert\" onclick=\"convertToInteractive('df-6a2024e0-6354-4372-9ad6-1ea9629a4aa4')\"\n",
              "              title=\"Convert this dataframe to an interactive table.\"\n",
              "              style=\"display:none;\">\n",
              "        \n",
              "  <svg xmlns=\"http://www.w3.org/2000/svg\" height=\"24px\"viewBox=\"0 0 24 24\"\n",
              "       width=\"24px\">\n",
              "    <path d=\"M0 0h24v24H0V0z\" fill=\"none\"/>\n",
              "    <path d=\"M18.56 5.44l.94 2.06.94-2.06 2.06-.94-2.06-.94-.94-2.06-.94 2.06-2.06.94zm-11 1L8.5 8.5l.94-2.06 2.06-.94-2.06-.94L8.5 2.5l-.94 2.06-2.06.94zm10 10l.94 2.06.94-2.06 2.06-.94-2.06-.94-.94-2.06-.94 2.06-2.06.94z\"/><path d=\"M17.41 7.96l-1.37-1.37c-.4-.4-.92-.59-1.43-.59-.52 0-1.04.2-1.43.59L10.3 9.45l-7.72 7.72c-.78.78-.78 2.05 0 2.83L4 21.41c.39.39.9.59 1.41.59.51 0 1.02-.2 1.41-.59l7.78-7.78 2.81-2.81c.8-.78.8-2.07 0-2.86zM5.41 20L4 18.59l7.72-7.72 1.47 1.35L5.41 20z\"/>\n",
              "  </svg>\n",
              "      </button>\n",
              "      \n",
              "  <style>\n",
              "    .colab-df-container {\n",
              "      display:flex;\n",
              "      flex-wrap:wrap;\n",
              "      gap: 12px;\n",
              "    }\n",
              "\n",
              "    .colab-df-convert {\n",
              "      background-color: #E8F0FE;\n",
              "      border: none;\n",
              "      border-radius: 50%;\n",
              "      cursor: pointer;\n",
              "      display: none;\n",
              "      fill: #1967D2;\n",
              "      height: 32px;\n",
              "      padding: 0 0 0 0;\n",
              "      width: 32px;\n",
              "    }\n",
              "\n",
              "    .colab-df-convert:hover {\n",
              "      background-color: #E2EBFA;\n",
              "      box-shadow: 0px 1px 2px rgba(60, 64, 67, 0.3), 0px 1px 3px 1px rgba(60, 64, 67, 0.15);\n",
              "      fill: #174EA6;\n",
              "    }\n",
              "\n",
              "    [theme=dark] .colab-df-convert {\n",
              "      background-color: #3B4455;\n",
              "      fill: #D2E3FC;\n",
              "    }\n",
              "\n",
              "    [theme=dark] .colab-df-convert:hover {\n",
              "      background-color: #434B5C;\n",
              "      box-shadow: 0px 1px 3px 1px rgba(0, 0, 0, 0.15);\n",
              "      filter: drop-shadow(0px 1px 2px rgba(0, 0, 0, 0.3));\n",
              "      fill: #FFFFFF;\n",
              "    }\n",
              "  </style>\n",
              "\n",
              "      <script>\n",
              "        const buttonEl =\n",
              "          document.querySelector('#df-6a2024e0-6354-4372-9ad6-1ea9629a4aa4 button.colab-df-convert');\n",
              "        buttonEl.style.display =\n",
              "          google.colab.kernel.accessAllowed ? 'block' : 'none';\n",
              "\n",
              "        async function convertToInteractive(key) {\n",
              "          const element = document.querySelector('#df-6a2024e0-6354-4372-9ad6-1ea9629a4aa4');\n",
              "          const dataTable =\n",
              "            await google.colab.kernel.invokeFunction('convertToInteractive',\n",
              "                                                     [key], {});\n",
              "          if (!dataTable) return;\n",
              "\n",
              "          const docLinkHtml = 'Like what you see? Visit the ' +\n",
              "            '<a target=\"_blank\" href=https://colab.research.google.com/notebooks/data_table.ipynb>data table notebook</a>'\n",
              "            + ' to learn more about interactive tables.';\n",
              "          element.innerHTML = '';\n",
              "          dataTable['output_type'] = 'display_data';\n",
              "          await google.colab.output.renderOutput(dataTable, element);\n",
              "          const docLink = document.createElement('div');\n",
              "          docLink.innerHTML = docLinkHtml;\n",
              "          element.appendChild(docLink);\n",
              "        }\n",
              "      </script>\n",
              "    </div>\n",
              "  </div>\n",
              "  "
            ]
          },
          "metadata": {},
          "execution_count": 65
        }
      ]
    },
    {
      "cell_type": "markdown",
      "source": [
        "## Get Email from Website"
      ],
      "metadata": {
        "id": "p4CjYK60K50k"
      }
    },
    {
      "cell_type": "code",
      "source": [
        "def getEmailfromLink(df):\n",
        "  career_Link = []\n",
        "  for link in df[\"Link\"]:\n",
        "    try:\n",
        "      career_Link.append(getEmail(link))\n",
        "    except:\n",
        "      career_Link.append([])\n",
        "      continue\n",
        "  return career_Link"
      ],
      "metadata": {
        "id": "YvrMR2qmc5ZB"
      },
      "execution_count": null,
      "outputs": []
    },
    {
      "cell_type": "code",
      "source": [
        "List_Link=getEmailfromLink(df)"
      ],
      "metadata": {
        "id": "dXnAS4ic-3_n",
        "colab": {
          "base_uri": "https://localhost:8080/"
        },
        "outputId": "2e1c52bf-a2bd-4eec-fc40-d9bff21776da"
      },
      "execution_count": null,
      "outputs": [
        {
          "output_type": "stream",
          "name": "stdout",
          "text": [
            "[]\n",
            "['careercounselor@adelphi.edu']\n",
            "['info@alaskacc.edu']\n",
            "['careerservices@alaskapacific.edu']\n",
            "['jjimmerson@albanytech.edu', 'lsheard@albanytech.edu', 'tktrueblood@albanytech.edu']\n",
            "[]\n",
            "['CareerInfo@arc.losrios.edu']\n",
            "['ascchumanresources@amsamoa.edu', 'info@amsamoa.edu', 'accessibility@amsamoa.edu']\n",
            "['career@andrews.edu']\n",
            "[]\n",
            "['admissions@atlm.edu', 'awwebmail@atlm.edu']\n",
            "['tegray@atlantatech.edu', 'emyanna@atlantatech.edu']\n",
            "['AugustaTechnicalCollegeCareerServices@augustatech.edu', 'CareerServices@augustatech.edu', 'dwendt@augustatech.edu']\n",
            "['career@apu.edu']\n",
            "['cspaulding@muskogeephoenix.com']\n",
            "['Internationals@abac.edu', 'dataprivacy@abac.edu', 'admissions@abac.edu']\n",
            "['Roshanda.Daniel@BaptistU.edu', 'Mellody.Selph@baptistu.edu']\n",
            "['careers@bastyr.edu']\n",
            "['careerservices@mybrcc.edu']\n",
            "[]\n",
            "['admission@belhaven.edu', 'clangley@belhaven.edu']\n",
            "['careers@bellevuecollege.edu', 'MichaelReese@BellevueC.onmicrosoft.com', 'CenterforCareerConnectionsOncampus@BellevueC.onmicrosoft.com']\n",
            "['development@franklincummings.edu', 'admissions@franklincummings.edu', 'careers@bfit.edu']\n",
            "['bcc-careertransfercenter@peralta.edu']\n",
            "['1eeb89147c984dc6bc3ffafd9e6cd089@sentry.wixpress.com', 'f36cc48fb72b4d298c835f2793cf3b84@sentry-next.wixpress.com', 'admissions@buc.edu', '8c4075d5481d476e945486754f783364@sentry.io', 'dd0a55ccb8124b9c9d938e3acf41f8aa@sentry.wixpress.com', '605a7baede844d278b89dc95ae0a9123@sentry-next.wixpress.com', '8eb368c655b84e029ed79ad7a5c1718e@sentry.wixpress.com']\n",
            "['studentsuccess@beulah.edu', 'hr@beulah.edu']\n",
            "['bfccinfo@bfcc.edu']\n",
            "['kharbison@bladencc.edu']\n",
            "['velma.hargis@dcccd.edu', 'bwelcome@dcccd.edu', 'OCPT@dcccd.edu']\n",
            "['careeradvising@bhcc.edu']\n",
            "[]\n",
            "[]\n",
            "['careercenter@csus.edu']\n",
            "['jesse.foster@csueastbay.edu', 'cherie.randolph@csueastbay.edu', 'aace@csueastbay.edu', 'kathryn.palmieri@csueastbay.edu', 'matt.harris@csueastbay.edu']\n",
            "['careers@calstatela.edu']\n",
            "['career@csustan.edu']\n",
            "['careers@littlehoop.edu']\n",
            "[]\n",
            "['HR@ccbs.edu', 'Component-1-%E2%80%93-1@2x.png', 'info@ccbs.edu']\n",
            "['contact@casalomacollege.edu', 'info@casalomacollege.edu', 'veronica.pantoja@casalomacollege.edu']\n",
            "['admissions@cctech.edu', 'brownjd@cctech.edu', 'marketing@cctech.edu', 'patchindr@cctech.edu']\n",
            "['careerservices@centralgatech.edu', 'bwalden@centralgatech.edu']\n",
            "[]\n",
            "['diane.yang@chaminade.edu']\n",
            "['wmccarter@charlottechristian.edu', 'gbaldwin@charlottechristian.edu', 'wballard@charlottechristian.edu', 'jlogan@charlottechristian.edu', 'gpeart@charlottechristian.edu', 'mmarsh@charlottechristian.edu']\n",
            "['shanisty.johnson@cv.edu', 'career.services@cv.edu', 'SENSEProgram@piratemail.cv.edu']\n",
            "['careerdevelopment@csu.edu']\n",
            "[]\n",
            "[]\n",
            "['cpdi@ccny.cuny.edu']\n",
            "['cpdi@ccny.cuny.edu']\n",
            "['helpdesk@ccsf.edu', 'careercenter@ccsf.edu', 'careerservices@ccsf.edu']\n",
            "['gortiz-velazquez@citycollege.edu', 'tvalukevich@citycollege.edu', 'jhaynes@citycollege.edu', 'smuhammad@citycollege.edu', 'kstaten@citycollege.edu', 'amills@citycollege.edu']\n",
            "[]\n",
            "['dataprivacy@clayton.edu', 'career@clayton.edu']\n",
            "['pio@cloviscollege.edu', 'careercenter@cloviscollege.edu']\n",
            "['careercenter@coastline.edu']\n",
            "['registrar@coleman.edu.gl']\n",
            "['tiffany.ghoddoucy@peralta.edu', 'coa-ncitiescc@peralta.edu', 'northcitiescc@gmail.com', 'sbradshaw@peralta.edu']\n",
            "['csc@cod.edu']\n",
            "['mgollnow@menominee.edu', 'swhite@menominee.edu']\n",
            "[]\n",
            "['csmcareerservices@smccd.edu']\n",
            "['NEW-SF@300x.png', 'Career.Services@csn.edu']\n",
            "['Caryl.Watkins@csi.cuny.edu', 'careers@csi.cuny.edu']\n",
            "['hledford@cmn.edu', 'slackey@cmn.edu']\n",
            "['your.name@provider.com', 'u002Fe80cdc0d141c49359859bbd2f93206cc@sentry.glassdoor.com']\n",
            "['careerconnections@columbustech.edu', 'web@tcsg.edu', 'IT_Department@columbustech.edu', 'news@columbustech.edu', 'Jwimberly@columbustech.edu', 'finaid@columbustech.edu', 'admissions@columbustech.edu']\n",
            "[]\n",
            "[]\n",
            "['cschr@connorsstate.edu']\n",
            "['Cfonseca@contracosta.edu', 'Mennis@contracosta.edu', 'Careerservices@contracosta.edu', 'careerservices@contracosta.edu']\n",
            "['crc-careercenter@crc.losrios.edu', 'ira.ayers@seta.net', 'calcareer@calhr.ca.gov']\n",
            "['careerdc@baruch.cuny.edu']\n",
            "['CAL-12755296-83a97f02-0184-fe7fd05d-000040becalendar@brooklyn.cuny.edu', 'CAL-12755296-83a97f02-0184-fe824f79-00004aa9calendar@brooklyn.cuny.edu', 'CAL-12755296-86dcf11e-0187-34373b86-00005f5dcalendar@brooklyn.cuny.edu', 'CAL-12755296-83a97f02-0184-fe450fa8-00002cd8calendar@brooklyn.cuny.edu', 'careernews@brooklyn.cuny.edu']\n",
            "['career@hunter.cuny.edu', 'designss@hunter.cuny.edu']\n",
            "['aroberson@mec.cuny.edu']\n",
            "['qc_career@qc.cuny.edu']\n",
            "['career@york.cuny.edu']\n",
            "['careercenter@cypresscollege.edu']\n",
            "['career.center@unt.edu']\n",
            "['CNSET@dcc.edu']\n",
            "['jrholiday@dinecollege.edu', 'mdchee@dinecollege.edu', 'kebaker@dinecollege.edu', 'rrdescheny@dinecollege.edu', 'crbedonie@dincollege.edu']\n",
            "['privacy@ega.edu', 'egsc-statesboro@ega.edu', 'admissions@ega.edu', 'egsc-augusta@ega.edu', 'webmaster@ega.edu']\n",
            "['workforce@eastms.edu']\n",
            "['enmu.ccs@enmu.edu']\n",
            "[]\n",
            "[]\n",
            "['admissions@edgecombe.edu', 'streetc@edgecombe.edu']\n",
            "['apenny@edmonds.edu', 'ronee.burchinal@edmonds.edu', 'douglas.evans@edmonds.edu']\n",
            "[]\n",
            "[]\n",
            "[]\n",
            "['Janina.Espinoza@evc.edu']\n",
            "[]\n",
            "['mottinger@faulkner.edu']\n",
            "['CareerServices@fdtc.edu']\n",
            "['sacstaterecruiter@csus.edu', 'lcoverstreet@ucdavis.edu', 'flc-careertransfer@flc.losrios.edu']\n",
            "[]\n",
            "['jesaville@fortlewis.edu', 'bspolen@fortlewis.edu', 'jmgomez1@fortlewis.edu', 'askcareerandlifedesign@fortlewis.edu']\n",
            "[]\n",
            "[]\n",
            "['dataprivacy@ggc.edu', 'u003Edataprivacy@ggc.edu', 'lhudson@ggc.edu', 'careerservices@ggc.edu']\n",
            "['mglover@gmc.edu', 'tpennington@gmc.edu', 'hr@gmc.edu', 'jrobbins@gmc.edu', 'mbrooks@gmc.edu', 'jmurray@gmc.edu', '12a91183b181415ebd32f36c572e4fde@gmc.edu']\n",
            "['johnsonje@gptc.edu', 'headc@gptc.edu', 'careers@gptc.edu']\n",
            "['dataprivacy@gsu.edu']\n",
            "['dataprivacy@gsu.edu', 'ayscareers@gsu.edu']\n",
            "[]\n",
            "['denise.terry@grace.edu']\n",
            "['beadvised@greenriver.edu']\n",
            "['careerservices@gupton-jones.edu']\n",
            "['crosser934@halifaxcc.edu']\n",
            "['pgrantorosco@haskell.edu', 'btapedo@haskell.edu', 'sherry.girty@bie.edu']\n",
            "['hawccinf@hawaii.edu', 'iengage@hawaii.edu']\n",
            "['cdc@hpu.edu']\n",
            "['careerdevelopment@herzing.edu']\n",
            "['careerdevelopment@herzing.edu']\n",
            "['careerdevelopment@herzing.edu']\n",
            "['careerdevelopment@herzing.edu']\n",
            "['careerdevelopment@herzing.edu']\n",
            "['careerandtransfer@highline.edu', 'jlangs3@uw.edu']\n",
            "[]\n",
            "['similler@holmescc.edu', 'therring@holmescc.edu', 'hccweb@holmescc.edu', 'pfells@holmescc.edu', 'compliance@holmescc.edu', 'cabel@holmescc.edu', 'jparker@holmescc.edu', 'lspell@holmescc.edu', 'disabilitysupportservices@holmescc.edu']\n",
            "['admissions@hnu.edu', 'mcknight@hnu.edu']\n",
            "['homesteadschools@socal.rr.com']\n",
            "['honcs@hawaii.edu']\n",
            "['ne.careerservices@hccs.edu', 'co.careerservices@hccs.edu', 'sw.careerservices@hccs.edu', 'se.careerservices@hccs.edu', 'nw.careerservices@hccs.edu', 'ce.careerservices@hccs.edu']\n",
            "['username@example.com', 'jwalker@humphreys.edu', 'lawadmissions@humphreys.edu', 'slopez@humphreys.edu', 'stocktonadmissions@humphreys.edu', 'modestoadmissions@humphreys.edu']\n",
            "[]\n",
            "[]\n",
            "['ivccareercenter@ivc.edu']\n",
            "[]\n",
            "['gethired@hawaii.edu']\n",
            "['kauaics@hawaii.edu', 'mshenry@hawaii.edu', 'kauaiweb@hawaii.edu']\n",
            "['library@kbocc.edu', 'studentservices@kbocc.edu', 'admissions@kbocc.edu']\n",
            "[]\n",
            "['info@lco.edu']\n",
            "['career.services@lwtech.edu', 'Career.Services@LWTech.edu']\n",
            "[]\n",
            "['samantha.fairbanks@lltc.edu']\n",
            "['leeward2@hawaii.edu', 'cori66@hawaii.edu']\n",
            "['lbartholomew@limestone.edu']\n",
            "['supshernixon@lincoln.edu', 'wkerr@lincoln.edu', 'websupport@lincoln.edu']\n",
            "[]\n",
            "['info@littlepriest.edu', 'mysoulearth.kearnes@littlepriest.edu', 'aaron.poorbear@littlepriest.edu', 'ariel.engebretson@littlepriest.edu']\n",
            "['career.center@lbcc.edu']\n",
            "['LIUpostpr@gmail.com']\n",
            "['darincv@lacitycollege.edu', 'turcotdr@lacitycollege.edu']\n",
            "[]\n",
            "['baf30a2b91654c5a840931f0137bed30@sentry.wixpress.com', '8c4075d5481d476e945486754f783364@sentry.io', 'janjohnson@martin.edu', '0e6a29e4756740a8a63493e912ba2174@sentry.wixpress.com', '605a7baede844d278b89dc95ae0a9123@sentry-next.wixpress.com', '8eb368c655b84e029ed79ad7a5c1718e@sentry.wixpress.com', '88170cb0c9d64f94b5821ca7fd2d55a4@sentry-next.wixpress.com']\n",
            "[]\n",
            "['851ab741980c4a90885385a818675aa8@peralta.edu', 'helpdesk@cc.peralta.edu', 'salturk@peralta.edu', 'helpdesk@peralta.edu']\n",
            "['careerservices@mcny.edu']\n",
            "['firstname.lastname@my.metrostate.edu', 'career.center@metrostate.edu']\n",
            "['casei@middlesex.mass.edu', 'oyamow@middlesex.mass.edu', 'fantasian@middlesex.mass.edu', 'ocil@middlesex.mass.edu', 'vasconcelosv@middlesex.mass.edu']\n",
            "['andrew.soliz@missioncollege.edu', 'tawny.sverdlin@missioncollege.edu']\n",
            "['admissions@msdelta.edu', 'bzuehlke@msdelta.edu', 'sthompson@msdelta.edu', 'mandrus@msdelta.edu']\n",
            "[]\n",
            "['eric.myren@montgomerycollege.edu', 'roberta.buckberg@montgomerycollege.edu', 'sean.wright@montgomerycollege.edu', 'patricia.mcglone@montgomerycollege.edu', 'joseph.ohare@montgomerycollege.edu', 'lucy.vitaliti@montgomerycollege.edu']\n",
            "['frederickadmissions@msmary.edu', 'admissions@msmary.edu', 'career-center@msmary.edu', 'careercenter@msmary.edu']\n",
            "['ctc@mtsac.edu', 'careercenter@mtsac.edu']\n",
            "[]\n",
            "[]\n",
            "['lloley@navajotech.edu', 'careerservices@navajotech.edu']\n",
            "['admissions@thenicc.edu']\n",
            "['advising@nmsu.edu']\n",
            "['info@nycollege.edu']\n",
            "[]\n",
            "['career@ncwc.edu']\n",
            "['Karen.Philbin@nhcc.edu']\n",
            "['velma.hargis@dcccd.edu', 'bwelcome@dcccd.edu', 'nlcweb@dcccd.edu']\n",
            "['julie.brixey@neo.edu']\n",
            "[]\n",
            "['info@netc.edu']\n",
            "['oar@marianas.edu', 'nmc@marianas.edu', 'webmaster@marianas.edu', 'it@marianas.edu', 'Neda.dlguerrero@marianas.edu']\n",
            "['shannon.lorg@noc.edu']\n",
            "['information@nvcc.edu', 'novacareerservices@nvcc.edu']\n",
            "[]\n",
            "['employment@nwic.edu']\n",
            "['helpdesk@nhsc.edu', 'pibeabuchi@nhsc.edu', 'jforson@nhsc.edu', 'fhossain@nhsc.edu', 'drainb@nhsc.edu', 'cabbas@nhsc.edu', 'admissions@nhsc.edu']\n",
            "[]\n",
            "['sdbrown@OFTC.edu']\n",
            "[]\n",
            "['information@okstate.edu']\n",
            "[]\n",
            "['CareerCenter@occ.cccd.edu']\n",
            "['rickenbakerjh@OCTECH.EDU', 'Jrichter@everfi.com', 'rickenbakerjh@octech.edu']\n",
            "['careerservices@otis.edu']\n",
            "['info@piu.edu']\n",
            "['seansartler@pacrim.edu', 'info@pacrim.edu']\n",
            "['career@puc.edu', 'alumni@puc.edu']\n",
            "['advisingcenter@pacificu.edu']\n",
            "['ccorcoran@paloaltou.edu']\n",
            "['cwarner@pamlicocc.edu']\n",
            "[]\n",
            "['careers-ab@psu.edu']\n",
            "[]\n",
            "[]\n",
            "['mfitzpatrick@prairiestate.edu', 'careerdevelopment@prairiestate.edu', 'tbrewer1@prairiestate.edu', 'mfitzpatrick2@prairiestate.edu', 'teakins@prairiestate.edu']\n",
            "[]\n",
            "['CareerServices@pgcc.edu']\n",
            "['Bfreier@qcc.cuny.edu', 'jaymefaison@childcenterny.org', 'Oballesteros@stnicksalliance.org', 'dcohen17@northwell.edu', 'rflores@stnicksalliance.org', 'careerservices@qcc.cuny.edu', 'CareerServices@qcc.cuny.edu']\n",
            "['Career.Services@redlandscc.edu', 'info@redlandscc.edu']\n",
            "['Terhan.Freeman@remingtoncollege.edu', 'accreditation@apta.org']\n",
            "['Terhan.Freeman@remingtoncollege.edu', 'accreditation@apta.org']\n",
            "['Terhan.Freeman@remingtoncollege.edu', 'accreditation@apta.org']\n",
            "['Terhan.Freeman@remingtoncollege.edu', 'accreditation@apta.org']\n",
            "['Terhan.Freeman@remingtoncollege.edu', 'accreditation@apta.org']\n",
            "['Terhan.Freeman@remingtoncollege.edu', 'accreditation@apta.org']\n",
            "['Terhan.Freeman@remingtoncollege.edu', 'accreditation@apta.org']\n",
            "['Terhan.Freeman@remingtoncollege.edu', 'accreditation@apta.org']\n",
            "['admissions@oakpoint.edu', 'info@oakpoint.edu']\n",
            "[]\n",
            "[]\n",
            "['kfields@rsu.edu', 'hirehillcats@rsu.edu', 'footer_twitter@2x.png', 'footer_youtube@2x.png', 'footer_instagram@2x.png', 'eyebrow_search@2x.png', 'footer_flickr@2x.png', 'admissions@rsu.edu', 'RogersStateUniversityCareerServices@rsu.edu', 'footer_facebook@2x.png']\n",
            "['accessibility@rutgers.edu', 'careers@echo.rutgers.edu']\n",
            "['aflaugher@sagchip.edu', 'ldrumm@sagchip.edu', 'studentservices@sagchip.edu', '605a7baede844d278b89dc95ae0a9123@sentry-next.wixpress.com', '88170cb0c9d64f94b5821ca7fd2d55a4@sentry-next.wixpress.com']\n",
            "['employment@csbsju.edu']\n",
            "['careers@stmartin.edu']\n",
            "['Careers@stmarys-ca.edu', 'careers@stmarys-ca.edu']\n",
            "[]\n",
            "['eva_oruste@skc.edu']\n",
            "['careerservices@sdsu.edu']\n",
            "['career@sfsu.edu']\n",
            "[]\n",
            "['careerhelp@sjsu.edu']\n",
            "['admissions@sanjuancollege.edu', 'careercenter@sanjuancollege.edu']\n",
            "['careerservices@savannahtech.edu', 'CareerServicesatSavannahTechnicalCollege@students.savannahtech.edu']\n",
            "['Info.Central@seattlecolleges.edu', 'CareerServicesCenter@seattlecolleges.edu']\n",
            "['605a7baede844d278b89dc95ae0a9123@sentry-next.wixpress.com', '8eb368c655b84e029ed79ad7a5c1718e@sentry.wixpress.com']\n",
            "['cummingl@seminolestate.edu', 'mobeckt@seminolestate.edu', 'pawlowsr@seminolestate.edu', 'careerdev@seminolestate.edu', 'lehmannc@seminolestate.edu', 'marrn@seminolestate.edu']\n",
            "['pio@shoreline.edu']\n",
            "['mpender@shorter.edu']\n",
            "['marianne.lefthandbull@sintegleska.edu']\n",
            "['danderson@swcollege.edu']\n",
            "[]\n",
            "['Support@jtmedia.zendesk.com', 'careercenter@solano.edu', 'patricia.young@solano.edu', 'Support@JTMedia.Zendesk.com', 'Patricia.Young@solano.edu']\n",
            "['ccarter@southgatech.edu', 'dtrueblood@southgatech.edu']\n",
            "['careertransfer@solacc.edu', 'info@solacc.edu']\n",
            "['lbuckner@ssc.edu', 'careerdev@ssc.edu']\n",
            "['ncopeland@seark.edu']\n",
            "[]\n",
            "['sw-ahicks@se.edu', 'sdavison@se.edu', 'sw-lcathey@se.edu', 'sw_ahicks@se.edu', 'sw_lcathey@se.edu', 'careers@se.edu', 'sw-mcruz@se.edu']\n",
            "[]\n",
            "[]\n",
            "['careerservices@southwest.tn.edu']\n",
            "[]\n",
            "['askcareer@stkate.edu']\n",
            "[]\n",
            "['kingm@oldwestbury.edu', 'bhanm@oldwestbury.edu', 'careerplanning@oldwestbury.edu', 'marinanj@oldwestbury.edu']\n",
            "['ecfd85d150d54e4fb18a450d40cff53a@sentry.indeed.com']\n",
            "['info@tocc.edu']\n",
            "['careerservices@trinitydc.edu']\n",
            "['info@tm.edu', 'mvandal@tm.edu']\n",
            "['csheehan@uttc.ed', 'csheehan@uttc.edu']\n",
            "['uaf-career@alaska.edu', 'uaf-web@alaska.edu']\n",
            "['amrichards4@alaska.edu']\n",
            "[]\n",
            "['career@uci.edu']\n",
            "[]\n",
            "['careercounseling@ucr.edu', 'careerrecruiting@ucr.edu']\n",
            "['gabrielle.comella@uconn.edu', 'career@uconn.edu', 'wiley.dawson@uconn.edu', 'wendy.kopp@uconn.edu', 'tara.malone@uconn.edu']\n",
            "['athleticcareers@uftl.edu', 'universityadmission@uftl.edu', 'humanresources@uftl.edu', 'careers@uftl.edu']\n",
            "['salliemcd@triton.uog.edu', 'career.development@triton.uog.edu']\n",
            "['uhwo.web@hawaii.edu', 'uhwo.careers@hawaii.edu']\n",
            "['hilo-haw-wordmark-c@2x.png', 'career@hawaii.edu', 'hilo-haw-left-w@2x.png', 'hilo-haw-wordmark-c@2x.webp', 'hilo-haw-left-w@2x.webp']\n",
            "['careers@hawaii.edu']\n",
            "['careerLK@hawaii.eduB', 'careerLK@hawaii.edu']\n",
            "['praut@Central.UH.EDU', 'cdeis@central.uh.edu', 'ceolmedo@central.uh.edu', 'mthomps3@central.uh.edu', 'tkdougla@central.uh.edu', 'mebrown8@cougarnet.uh.edu', 'ucs@uh.edu', 'praut@central.uh.edu']\n",
            "['careerservices@uic.edu']\n",
            "[]\n",
            "[]\n",
            "[]\n",
            "['career@umn.edu']\n",
            "[]\n",
            "[]\n",
            "[]\n",
            "['careerservices@usfca.edu']\n",
            "['careerservices@pacific.edu']\n",
            "['handshake@uw.edu', 'dherb@uw.edu', 'Huskies@Work-Banner-2022.png', 'askcic@uw.edu']\n",
            "['tcareer@uw.edu']\n",
            "['uwacareerservices@uwa.edu']\n",
            "['fthomas@wau.edu']\n",
            "['username@example.com', 'career.services@wdt.edu']\n",
            "['advising@wcjc.edu', 'ACT@wcjc.edu']\n",
            "['indosa.montoya@wetcc.edu', 'hr@wetcc.edu']\n",
            "['info@wiltech.edu']\n",
            "[]\n",
            "['WCC-CareerCenter@yccd.edu']\n",
            "[]\n"
          ]
        }
      ]
    },
    {
      "cell_type": "markdown",
      "source": [
        "**Array Conversion**\n",
        "\n",
        "---\n",
        "This code converts a 2D array into an array of strings, where each string value is separated by ';', and appends it to a list.\n"
      ],
      "metadata": {
        "id": "-VhjO3nhKOsi"
      }
    },
    {
      "cell_type": "code",
      "source": [
        "array_of_strings = []\n",
        "\n",
        "# Loop through each array inside the 2D array\n",
        "for array in List_Link:\n",
        "    # Convert each value inside the array to a string, separated by ';'\n",
        "    array_of_strings.append(';'.join(map(str, array)))\n",
        "\n",
        "print(array_of_strings)"
      ],
      "metadata": {
        "id": "VT6-bSYunhvd",
        "colab": {
          "base_uri": "https://localhost:8080/"
        },
        "outputId": "797e0d7c-499e-4f53-d827-4153ab22ba6a"
      },
      "execution_count": null,
      "outputs": [
        {
          "output_type": "stream",
          "name": "stdout",
          "text": [
            "['', 'careercounselor@adelphi.edu', 'info@alaskacc.edu', 'careerservices@alaskapacific.edu', 'jjimmerson@albanytech.edu;lsheard@albanytech.edu;tktrueblood@albanytech.edu', '', 'CareerInfo@arc.losrios.edu', 'ascchumanresources@amsamoa.edu;info@amsamoa.edu;accessibility@amsamoa.edu', 'career@andrews.edu', '', 'admissions@atlm.edu;awwebmail@atlm.edu', 'tegray@atlantatech.edu;emyanna@atlantatech.edu', 'AugustaTechnicalCollegeCareerServices@augustatech.edu;CareerServices@augustatech.edu;dwendt@augustatech.edu', 'career@apu.edu', 'cspaulding@muskogeephoenix.com', 'Internationals@abac.edu;dataprivacy@abac.edu;admissions@abac.edu', 'Roshanda.Daniel@BaptistU.edu;Mellody.Selph@baptistu.edu', 'careers@bastyr.edu', 'careerservices@mybrcc.edu', '', 'admission@belhaven.edu;clangley@belhaven.edu', 'careers@bellevuecollege.edu;MichaelReese@BellevueC.onmicrosoft.com;CenterforCareerConnectionsOncampus@BellevueC.onmicrosoft.com', 'development@franklincummings.edu;admissions@franklincummings.edu;careers@bfit.edu', 'bcc-careertransfercenter@peralta.edu', '1eeb89147c984dc6bc3ffafd9e6cd089@sentry.wixpress.com;f36cc48fb72b4d298c835f2793cf3b84@sentry-next.wixpress.com;admissions@buc.edu;8c4075d5481d476e945486754f783364@sentry.io;dd0a55ccb8124b9c9d938e3acf41f8aa@sentry.wixpress.com;605a7baede844d278b89dc95ae0a9123@sentry-next.wixpress.com;8eb368c655b84e029ed79ad7a5c1718e@sentry.wixpress.com', 'studentsuccess@beulah.edu;hr@beulah.edu', 'bfccinfo@bfcc.edu', 'kharbison@bladencc.edu', 'velma.hargis@dcccd.edu;bwelcome@dcccd.edu;OCPT@dcccd.edu', 'careeradvising@bhcc.edu', '', '', 'careercenter@csus.edu', 'jesse.foster@csueastbay.edu;cherie.randolph@csueastbay.edu;aace@csueastbay.edu;kathryn.palmieri@csueastbay.edu;matt.harris@csueastbay.edu', 'careers@calstatela.edu', 'career@csustan.edu', 'careers@littlehoop.edu', '', 'HR@ccbs.edu;Component-1-%E2%80%93-1@2x.png;info@ccbs.edu', 'contact@casalomacollege.edu;info@casalomacollege.edu;veronica.pantoja@casalomacollege.edu', 'admissions@cctech.edu;brownjd@cctech.edu;marketing@cctech.edu;patchindr@cctech.edu', 'careerservices@centralgatech.edu;bwalden@centralgatech.edu', '', 'diane.yang@chaminade.edu', 'wmccarter@charlottechristian.edu;gbaldwin@charlottechristian.edu;wballard@charlottechristian.edu;jlogan@charlottechristian.edu;gpeart@charlottechristian.edu;mmarsh@charlottechristian.edu', 'shanisty.johnson@cv.edu;career.services@cv.edu;SENSEProgram@piratemail.cv.edu', 'careerdevelopment@csu.edu', '', '', 'cpdi@ccny.cuny.edu', 'cpdi@ccny.cuny.edu', 'helpdesk@ccsf.edu;careercenter@ccsf.edu;careerservices@ccsf.edu', 'gortiz-velazquez@citycollege.edu;tvalukevich@citycollege.edu;jhaynes@citycollege.edu;smuhammad@citycollege.edu;kstaten@citycollege.edu;amills@citycollege.edu', '', 'dataprivacy@clayton.edu;career@clayton.edu', 'pio@cloviscollege.edu;careercenter@cloviscollege.edu', 'careercenter@coastline.edu', 'registrar@coleman.edu.gl', 'tiffany.ghoddoucy@peralta.edu;coa-ncitiescc@peralta.edu;northcitiescc@gmail.com;sbradshaw@peralta.edu', 'csc@cod.edu', 'mgollnow@menominee.edu;swhite@menominee.edu', '', 'csmcareerservices@smccd.edu', 'NEW-SF@300x.png;Career.Services@csn.edu', 'Caryl.Watkins@csi.cuny.edu;careers@csi.cuny.edu', 'hledford@cmn.edu;slackey@cmn.edu', 'your.name@provider.com;u002Fe80cdc0d141c49359859bbd2f93206cc@sentry.glassdoor.com', 'careerconnections@columbustech.edu;web@tcsg.edu;IT_Department@columbustech.edu;news@columbustech.edu;Jwimberly@columbustech.edu;finaid@columbustech.edu;admissions@columbustech.edu', '', '', 'cschr@connorsstate.edu', 'Cfonseca@contracosta.edu;Mennis@contracosta.edu;Careerservices@contracosta.edu;careerservices@contracosta.edu', 'crc-careercenter@crc.losrios.edu;ira.ayers@seta.net;calcareer@calhr.ca.gov', 'careerdc@baruch.cuny.edu', 'CAL-12755296-83a97f02-0184-fe7fd05d-000040becalendar@brooklyn.cuny.edu;CAL-12755296-83a97f02-0184-fe824f79-00004aa9calendar@brooklyn.cuny.edu;CAL-12755296-86dcf11e-0187-34373b86-00005f5dcalendar@brooklyn.cuny.edu;CAL-12755296-83a97f02-0184-fe450fa8-00002cd8calendar@brooklyn.cuny.edu;careernews@brooklyn.cuny.edu', 'career@hunter.cuny.edu;designss@hunter.cuny.edu', 'aroberson@mec.cuny.edu', 'qc_career@qc.cuny.edu', 'career@york.cuny.edu', 'careercenter@cypresscollege.edu', 'career.center@unt.edu', 'CNSET@dcc.edu', 'jrholiday@dinecollege.edu;mdchee@dinecollege.edu;kebaker@dinecollege.edu;rrdescheny@dinecollege.edu;crbedonie@dincollege.edu', 'privacy@ega.edu;egsc-statesboro@ega.edu;admissions@ega.edu;egsc-augusta@ega.edu;webmaster@ega.edu', 'workforce@eastms.edu', 'enmu.ccs@enmu.edu', '', '', 'admissions@edgecombe.edu;streetc@edgecombe.edu', 'apenny@edmonds.edu;ronee.burchinal@edmonds.edu;douglas.evans@edmonds.edu', '', '', '', 'Janina.Espinoza@evc.edu', '', 'mottinger@faulkner.edu', 'CareerServices@fdtc.edu', 'sacstaterecruiter@csus.edu;lcoverstreet@ucdavis.edu;flc-careertransfer@flc.losrios.edu', '', 'jesaville@fortlewis.edu;bspolen@fortlewis.edu;jmgomez1@fortlewis.edu;askcareerandlifedesign@fortlewis.edu', '', '', 'dataprivacy@ggc.edu;u003Edataprivacy@ggc.edu;lhudson@ggc.edu;careerservices@ggc.edu', 'mglover@gmc.edu;tpennington@gmc.edu;hr@gmc.edu;jrobbins@gmc.edu;mbrooks@gmc.edu;jmurray@gmc.edu;12a91183b181415ebd32f36c572e4fde@gmc.edu', 'johnsonje@gptc.edu;headc@gptc.edu;careers@gptc.edu', 'dataprivacy@gsu.edu', 'dataprivacy@gsu.edu;ayscareers@gsu.edu', '', 'denise.terry@grace.edu', 'beadvised@greenriver.edu', 'careerservices@gupton-jones.edu', 'crosser934@halifaxcc.edu', 'pgrantorosco@haskell.edu;btapedo@haskell.edu;sherry.girty@bie.edu', 'hawccinf@hawaii.edu;iengage@hawaii.edu', 'cdc@hpu.edu', 'careerdevelopment@herzing.edu', 'careerdevelopment@herzing.edu', 'careerdevelopment@herzing.edu', 'careerdevelopment@herzing.edu', 'careerdevelopment@herzing.edu', 'careerandtransfer@highline.edu;jlangs3@uw.edu', '', 'similler@holmescc.edu;therring@holmescc.edu;hccweb@holmescc.edu;pfells@holmescc.edu;compliance@holmescc.edu;cabel@holmescc.edu;jparker@holmescc.edu;lspell@holmescc.edu;disabilitysupportservices@holmescc.edu', 'admissions@hnu.edu;mcknight@hnu.edu', 'homesteadschools@socal.rr.com', 'honcs@hawaii.edu', 'ne.careerservices@hccs.edu;co.careerservices@hccs.edu;sw.careerservices@hccs.edu;se.careerservices@hccs.edu;nw.careerservices@hccs.edu;ce.careerservices@hccs.edu', 'username@example.com;jwalker@humphreys.edu;lawadmissions@humphreys.edu;slopez@humphreys.edu;stocktonadmissions@humphreys.edu;modestoadmissions@humphreys.edu', '', '', 'ivccareercenter@ivc.edu', '', 'gethired@hawaii.edu', 'kauaics@hawaii.edu;mshenry@hawaii.edu;kauaiweb@hawaii.edu', 'library@kbocc.edu;studentservices@kbocc.edu;admissions@kbocc.edu', '', 'info@lco.edu', 'career.services@lwtech.edu;Career.Services@LWTech.edu', '', 'samantha.fairbanks@lltc.edu', 'leeward2@hawaii.edu;cori66@hawaii.edu', 'lbartholomew@limestone.edu', 'supshernixon@lincoln.edu;wkerr@lincoln.edu;websupport@lincoln.edu', '', 'info@littlepriest.edu;mysoulearth.kearnes@littlepriest.edu;aaron.poorbear@littlepriest.edu;ariel.engebretson@littlepriest.edu', 'career.center@lbcc.edu', 'LIUpostpr@gmail.com', 'darincv@lacitycollege.edu;turcotdr@lacitycollege.edu', '', 'baf30a2b91654c5a840931f0137bed30@sentry.wixpress.com;8c4075d5481d476e945486754f783364@sentry.io;janjohnson@martin.edu;0e6a29e4756740a8a63493e912ba2174@sentry.wixpress.com;605a7baede844d278b89dc95ae0a9123@sentry-next.wixpress.com;8eb368c655b84e029ed79ad7a5c1718e@sentry.wixpress.com;88170cb0c9d64f94b5821ca7fd2d55a4@sentry-next.wixpress.com', '', '851ab741980c4a90885385a818675aa8@peralta.edu;helpdesk@cc.peralta.edu;salturk@peralta.edu;helpdesk@peralta.edu', 'careerservices@mcny.edu', 'firstname.lastname@my.metrostate.edu;career.center@metrostate.edu', 'casei@middlesex.mass.edu;oyamow@middlesex.mass.edu;fantasian@middlesex.mass.edu;ocil@middlesex.mass.edu;vasconcelosv@middlesex.mass.edu', 'andrew.soliz@missioncollege.edu;tawny.sverdlin@missioncollege.edu', 'admissions@msdelta.edu;bzuehlke@msdelta.edu;sthompson@msdelta.edu;mandrus@msdelta.edu', '', 'eric.myren@montgomerycollege.edu;roberta.buckberg@montgomerycollege.edu;sean.wright@montgomerycollege.edu;patricia.mcglone@montgomerycollege.edu;joseph.ohare@montgomerycollege.edu;lucy.vitaliti@montgomerycollege.edu', 'frederickadmissions@msmary.edu;admissions@msmary.edu;career-center@msmary.edu;careercenter@msmary.edu', 'ctc@mtsac.edu;careercenter@mtsac.edu', '', '', 'lloley@navajotech.edu;careerservices@navajotech.edu', 'admissions@thenicc.edu', 'advising@nmsu.edu', 'info@nycollege.edu', '', 'career@ncwc.edu', 'Karen.Philbin@nhcc.edu', 'velma.hargis@dcccd.edu;bwelcome@dcccd.edu;nlcweb@dcccd.edu', 'julie.brixey@neo.edu', '', 'info@netc.edu', 'oar@marianas.edu;nmc@marianas.edu;webmaster@marianas.edu;it@marianas.edu;Neda.dlguerrero@marianas.edu', 'shannon.lorg@noc.edu', 'information@nvcc.edu;novacareerservices@nvcc.edu', '', 'employment@nwic.edu', 'helpdesk@nhsc.edu;pibeabuchi@nhsc.edu;jforson@nhsc.edu;fhossain@nhsc.edu;drainb@nhsc.edu;cabbas@nhsc.edu;admissions@nhsc.edu', '', 'sdbrown@OFTC.edu', '', 'information@okstate.edu', '', 'CareerCenter@occ.cccd.edu', 'rickenbakerjh@OCTECH.EDU;Jrichter@everfi.com;rickenbakerjh@octech.edu', 'careerservices@otis.edu', 'info@piu.edu', 'seansartler@pacrim.edu;info@pacrim.edu', 'career@puc.edu;alumni@puc.edu', 'advisingcenter@pacificu.edu', 'ccorcoran@paloaltou.edu', 'cwarner@pamlicocc.edu', '', 'careers-ab@psu.edu', '', '', 'mfitzpatrick@prairiestate.edu;careerdevelopment@prairiestate.edu;tbrewer1@prairiestate.edu;mfitzpatrick2@prairiestate.edu;teakins@prairiestate.edu', '', 'CareerServices@pgcc.edu', 'Bfreier@qcc.cuny.edu;jaymefaison@childcenterny.org;Oballesteros@stnicksalliance.org;dcohen17@northwell.edu;rflores@stnicksalliance.org;careerservices@qcc.cuny.edu;CareerServices@qcc.cuny.edu', 'Career.Services@redlandscc.edu;info@redlandscc.edu', 'Terhan.Freeman@remingtoncollege.edu;accreditation@apta.org', 'Terhan.Freeman@remingtoncollege.edu;accreditation@apta.org', 'Terhan.Freeman@remingtoncollege.edu;accreditation@apta.org', 'Terhan.Freeman@remingtoncollege.edu;accreditation@apta.org', 'Terhan.Freeman@remingtoncollege.edu;accreditation@apta.org', 'Terhan.Freeman@remingtoncollege.edu;accreditation@apta.org', 'Terhan.Freeman@remingtoncollege.edu;accreditation@apta.org', 'Terhan.Freeman@remingtoncollege.edu;accreditation@apta.org', 'admissions@oakpoint.edu;info@oakpoint.edu', '', '', 'kfields@rsu.edu;hirehillcats@rsu.edu;footer_twitter@2x.png;footer_youtube@2x.png;footer_instagram@2x.png;eyebrow_search@2x.png;footer_flickr@2x.png;admissions@rsu.edu;RogersStateUniversityCareerServices@rsu.edu;footer_facebook@2x.png', 'accessibility@rutgers.edu;careers@echo.rutgers.edu', 'aflaugher@sagchip.edu;ldrumm@sagchip.edu;studentservices@sagchip.edu;605a7baede844d278b89dc95ae0a9123@sentry-next.wixpress.com;88170cb0c9d64f94b5821ca7fd2d55a4@sentry-next.wixpress.com', 'employment@csbsju.edu', 'careers@stmartin.edu', 'Careers@stmarys-ca.edu;careers@stmarys-ca.edu', '', 'eva_oruste@skc.edu', 'careerservices@sdsu.edu', 'career@sfsu.edu', '', 'careerhelp@sjsu.edu', 'admissions@sanjuancollege.edu;careercenter@sanjuancollege.edu', 'careerservices@savannahtech.edu;CareerServicesatSavannahTechnicalCollege@students.savannahtech.edu', 'Info.Central@seattlecolleges.edu;CareerServicesCenter@seattlecolleges.edu', '605a7baede844d278b89dc95ae0a9123@sentry-next.wixpress.com;8eb368c655b84e029ed79ad7a5c1718e@sentry.wixpress.com', 'cummingl@seminolestate.edu;mobeckt@seminolestate.edu;pawlowsr@seminolestate.edu;careerdev@seminolestate.edu;lehmannc@seminolestate.edu;marrn@seminolestate.edu', 'pio@shoreline.edu', 'mpender@shorter.edu', 'marianne.lefthandbull@sintegleska.edu', 'danderson@swcollege.edu', '', 'Support@jtmedia.zendesk.com;careercenter@solano.edu;patricia.young@solano.edu;Support@JTMedia.Zendesk.com;Patricia.Young@solano.edu', 'ccarter@southgatech.edu;dtrueblood@southgatech.edu', 'careertransfer@solacc.edu;info@solacc.edu', 'lbuckner@ssc.edu;careerdev@ssc.edu', 'ncopeland@seark.edu', '', 'sw-ahicks@se.edu;sdavison@se.edu;sw-lcathey@se.edu;sw_ahicks@se.edu;sw_lcathey@se.edu;careers@se.edu;sw-mcruz@se.edu', '', '', 'careerservices@southwest.tn.edu', '', 'askcareer@stkate.edu', '', 'kingm@oldwestbury.edu;bhanm@oldwestbury.edu;careerplanning@oldwestbury.edu;marinanj@oldwestbury.edu', 'ecfd85d150d54e4fb18a450d40cff53a@sentry.indeed.com', 'info@tocc.edu', 'careerservices@trinitydc.edu', 'info@tm.edu;mvandal@tm.edu', 'csheehan@uttc.ed;csheehan@uttc.edu', 'uaf-career@alaska.edu;uaf-web@alaska.edu', 'amrichards4@alaska.edu', '', '', 'career@uci.edu', '', 'careercounseling@ucr.edu;careerrecruiting@ucr.edu', 'gabrielle.comella@uconn.edu;career@uconn.edu;wiley.dawson@uconn.edu;wendy.kopp@uconn.edu;tara.malone@uconn.edu', 'athleticcareers@uftl.edu;universityadmission@uftl.edu;humanresources@uftl.edu;careers@uftl.edu', 'salliemcd@triton.uog.edu;career.development@triton.uog.edu', 'uhwo.web@hawaii.edu;uhwo.careers@hawaii.edu', 'hilo-haw-wordmark-c@2x.png;career@hawaii.edu;hilo-haw-left-w@2x.png;hilo-haw-wordmark-c@2x.webp;hilo-haw-left-w@2x.webp', 'careers@hawaii.edu', 'careerLK@hawaii.eduB;careerLK@hawaii.edu', 'praut@Central.UH.EDU;cdeis@central.uh.edu;ceolmedo@central.uh.edu;mthomps3@central.uh.edu;tkdougla@central.uh.edu;mebrown8@cougarnet.uh.edu;ucs@uh.edu;praut@central.uh.edu', 'careerservices@uic.edu', '', '', '', 'career@umn.edu', '', '', '', 'careerservices@usfca.edu', 'careerservices@pacific.edu', 'handshake@uw.edu;dherb@uw.edu;Huskies@Work-Banner-2022.png;askcic@uw.edu', 'tcareer@uw.edu', 'uwacareerservices@uwa.edu', 'fthomas@wau.edu', '', 'username@example.com;career.services@wdt.edu', 'advising@wcjc.edu;ACT@wcjc.edu', 'indosa.montoya@wetcc.edu;hr@wetcc.edu', 'info@wiltech.edu', '', 'WCC-CareerCenter@yccd.edu', '']\n"
          ]
        }
      ]
    },
    {
      "cell_type": "code",
      "source": [
        "df['cl']=pd.Series(array_of_strings)"
      ],
      "metadata": {
        "id": "dHAYsirUftNY"
      },
      "execution_count": null,
      "outputs": []
    },
    {
      "cell_type": "code",
      "source": [
        "df"
      ],
      "metadata": {
        "colab": {
          "base_uri": "https://localhost:8080/",
          "height": 423
        },
        "id": "x0XmKlyeJBcg",
        "outputId": "e590c76b-c041-49e2-de6b-8864b62f35fa"
      },
      "execution_count": null,
      "outputs": [
        {
          "output_type": "execute_result",
          "data": {
            "text/plain": [
              "                              University Name  \\\n",
              "0                      Aaniiih Nakoda College   \n",
              "1                          Adelphi University   \n",
              "2                    Alaska Christian College   \n",
              "3                   Alaska Pacific University   \n",
              "4                    Albany Technical College   \n",
              "..                                        ...   \n",
              "287  White Earth Tribal and Community College   \n",
              "288            Williamsburg Technical College   \n",
              "289                Windward Community College   \n",
              "290                Woodland Community College   \n",
              "291                              Yuba College   \n",
              "\n",
              "                                                  Link  \\\n",
              "0    https://www.ancollege.edu/?page=student_servic...   \n",
              "1               https://www.adelphi.edu/career-center/   \n",
              "2    https://alaskacc.edu/campus-life/student-succe...   \n",
              "3       https://www.alaskapacific.edu/career-services/   \n",
              "4    https://www.albanytech.edu/student-affairs/car...   \n",
              "..                                                 ...   \n",
              "287              https://www.wetcc.edu/employment.html   \n",
              "288    https://www.wiltech.edu/student-success-center/   \n",
              "289  https://windward.hawaii.edu/services-for-stude...   \n",
              "290        https://wcc.yccd.edu/student/career-center/   \n",
              "291                https://yc.yccd.edu/student/career/   \n",
              "\n",
              "                                                    cl  \n",
              "0                                                       \n",
              "1                          careercounselor@adelphi.edu  \n",
              "2                                    info@alaskacc.edu  \n",
              "3                     careerservices@alaskapacific.edu  \n",
              "4    jjimmerson@albanytech.edu;lsheard@albanytech.e...  \n",
              "..                                                 ...  \n",
              "287              indosa.montoya@wetcc.edu;hr@wetcc.edu  \n",
              "288                                   info@wiltech.edu  \n",
              "289                                                     \n",
              "290                          WCC-CareerCenter@yccd.edu  \n",
              "291                                                     \n",
              "\n",
              "[292 rows x 3 columns]"
            ],
            "text/html": [
              "\n",
              "  <div id=\"df-87f97334-039c-42c9-b8a0-5196b1f9ec16\">\n",
              "    <div class=\"colab-df-container\">\n",
              "      <div>\n",
              "<style scoped>\n",
              "    .dataframe tbody tr th:only-of-type {\n",
              "        vertical-align: middle;\n",
              "    }\n",
              "\n",
              "    .dataframe tbody tr th {\n",
              "        vertical-align: top;\n",
              "    }\n",
              "\n",
              "    .dataframe thead th {\n",
              "        text-align: right;\n",
              "    }\n",
              "</style>\n",
              "<table border=\"1\" class=\"dataframe\">\n",
              "  <thead>\n",
              "    <tr style=\"text-align: right;\">\n",
              "      <th></th>\n",
              "      <th>University Name</th>\n",
              "      <th>Link</th>\n",
              "      <th>cl</th>\n",
              "    </tr>\n",
              "  </thead>\n",
              "  <tbody>\n",
              "    <tr>\n",
              "      <th>0</th>\n",
              "      <td>Aaniiih Nakoda College</td>\n",
              "      <td>https://www.ancollege.edu/?page=student_servic...</td>\n",
              "      <td></td>\n",
              "    </tr>\n",
              "    <tr>\n",
              "      <th>1</th>\n",
              "      <td>Adelphi University</td>\n",
              "      <td>https://www.adelphi.edu/career-center/</td>\n",
              "      <td>careercounselor@adelphi.edu</td>\n",
              "    </tr>\n",
              "    <tr>\n",
              "      <th>2</th>\n",
              "      <td>Alaska Christian College</td>\n",
              "      <td>https://alaskacc.edu/campus-life/student-succe...</td>\n",
              "      <td>info@alaskacc.edu</td>\n",
              "    </tr>\n",
              "    <tr>\n",
              "      <th>3</th>\n",
              "      <td>Alaska Pacific University</td>\n",
              "      <td>https://www.alaskapacific.edu/career-services/</td>\n",
              "      <td>careerservices@alaskapacific.edu</td>\n",
              "    </tr>\n",
              "    <tr>\n",
              "      <th>4</th>\n",
              "      <td>Albany Technical College</td>\n",
              "      <td>https://www.albanytech.edu/student-affairs/car...</td>\n",
              "      <td>jjimmerson@albanytech.edu;lsheard@albanytech.e...</td>\n",
              "    </tr>\n",
              "    <tr>\n",
              "      <th>...</th>\n",
              "      <td>...</td>\n",
              "      <td>...</td>\n",
              "      <td>...</td>\n",
              "    </tr>\n",
              "    <tr>\n",
              "      <th>287</th>\n",
              "      <td>White Earth Tribal and Community College</td>\n",
              "      <td>https://www.wetcc.edu/employment.html</td>\n",
              "      <td>indosa.montoya@wetcc.edu;hr@wetcc.edu</td>\n",
              "    </tr>\n",
              "    <tr>\n",
              "      <th>288</th>\n",
              "      <td>Williamsburg Technical College</td>\n",
              "      <td>https://www.wiltech.edu/student-success-center/</td>\n",
              "      <td>info@wiltech.edu</td>\n",
              "    </tr>\n",
              "    <tr>\n",
              "      <th>289</th>\n",
              "      <td>Windward Community College</td>\n",
              "      <td>https://windward.hawaii.edu/services-for-stude...</td>\n",
              "      <td></td>\n",
              "    </tr>\n",
              "    <tr>\n",
              "      <th>290</th>\n",
              "      <td>Woodland Community College</td>\n",
              "      <td>https://wcc.yccd.edu/student/career-center/</td>\n",
              "      <td>WCC-CareerCenter@yccd.edu</td>\n",
              "    </tr>\n",
              "    <tr>\n",
              "      <th>291</th>\n",
              "      <td>Yuba College</td>\n",
              "      <td>https://yc.yccd.edu/student/career/</td>\n",
              "      <td></td>\n",
              "    </tr>\n",
              "  </tbody>\n",
              "</table>\n",
              "<p>292 rows × 3 columns</p>\n",
              "</div>\n",
              "      <button class=\"colab-df-convert\" onclick=\"convertToInteractive('df-87f97334-039c-42c9-b8a0-5196b1f9ec16')\"\n",
              "              title=\"Convert this dataframe to an interactive table.\"\n",
              "              style=\"display:none;\">\n",
              "        \n",
              "  <svg xmlns=\"http://www.w3.org/2000/svg\" height=\"24px\"viewBox=\"0 0 24 24\"\n",
              "       width=\"24px\">\n",
              "    <path d=\"M0 0h24v24H0V0z\" fill=\"none\"/>\n",
              "    <path d=\"M18.56 5.44l.94 2.06.94-2.06 2.06-.94-2.06-.94-.94-2.06-.94 2.06-2.06.94zm-11 1L8.5 8.5l.94-2.06 2.06-.94-2.06-.94L8.5 2.5l-.94 2.06-2.06.94zm10 10l.94 2.06.94-2.06 2.06-.94-2.06-.94-.94-2.06-.94 2.06-2.06.94z\"/><path d=\"M17.41 7.96l-1.37-1.37c-.4-.4-.92-.59-1.43-.59-.52 0-1.04.2-1.43.59L10.3 9.45l-7.72 7.72c-.78.78-.78 2.05 0 2.83L4 21.41c.39.39.9.59 1.41.59.51 0 1.02-.2 1.41-.59l7.78-7.78 2.81-2.81c.8-.78.8-2.07 0-2.86zM5.41 20L4 18.59l7.72-7.72 1.47 1.35L5.41 20z\"/>\n",
              "  </svg>\n",
              "      </button>\n",
              "      \n",
              "  <style>\n",
              "    .colab-df-container {\n",
              "      display:flex;\n",
              "      flex-wrap:wrap;\n",
              "      gap: 12px;\n",
              "    }\n",
              "\n",
              "    .colab-df-convert {\n",
              "      background-color: #E8F0FE;\n",
              "      border: none;\n",
              "      border-radius: 50%;\n",
              "      cursor: pointer;\n",
              "      display: none;\n",
              "      fill: #1967D2;\n",
              "      height: 32px;\n",
              "      padding: 0 0 0 0;\n",
              "      width: 32px;\n",
              "    }\n",
              "\n",
              "    .colab-df-convert:hover {\n",
              "      background-color: #E2EBFA;\n",
              "      box-shadow: 0px 1px 2px rgba(60, 64, 67, 0.3), 0px 1px 3px 1px rgba(60, 64, 67, 0.15);\n",
              "      fill: #174EA6;\n",
              "    }\n",
              "\n",
              "    [theme=dark] .colab-df-convert {\n",
              "      background-color: #3B4455;\n",
              "      fill: #D2E3FC;\n",
              "    }\n",
              "\n",
              "    [theme=dark] .colab-df-convert:hover {\n",
              "      background-color: #434B5C;\n",
              "      box-shadow: 0px 1px 3px 1px rgba(0, 0, 0, 0.15);\n",
              "      filter: drop-shadow(0px 1px 2px rgba(0, 0, 0, 0.3));\n",
              "      fill: #FFFFFF;\n",
              "    }\n",
              "  </style>\n",
              "\n",
              "      <script>\n",
              "        const buttonEl =\n",
              "          document.querySelector('#df-87f97334-039c-42c9-b8a0-5196b1f9ec16 button.colab-df-convert');\n",
              "        buttonEl.style.display =\n",
              "          google.colab.kernel.accessAllowed ? 'block' : 'none';\n",
              "\n",
              "        async function convertToInteractive(key) {\n",
              "          const element = document.querySelector('#df-87f97334-039c-42c9-b8a0-5196b1f9ec16');\n",
              "          const dataTable =\n",
              "            await google.colab.kernel.invokeFunction('convertToInteractive',\n",
              "                                                     [key], {});\n",
              "          if (!dataTable) return;\n",
              "\n",
              "          const docLinkHtml = 'Like what you see? Visit the ' +\n",
              "            '<a target=\"_blank\" href=https://colab.research.google.com/notebooks/data_table.ipynb>data table notebook</a>'\n",
              "            + ' to learn more about interactive tables.';\n",
              "          element.innerHTML = '';\n",
              "          dataTable['output_type'] = 'display_data';\n",
              "          await google.colab.output.renderOutput(dataTable, element);\n",
              "          const docLink = document.createElement('div');\n",
              "          docLink.innerHTML = docLinkHtml;\n",
              "          element.appendChild(docLink);\n",
              "        }\n",
              "      </script>\n",
              "    </div>\n",
              "  </div>\n",
              "  "
            ]
          },
          "metadata": {},
          "execution_count": 70
        }
      ]
    },
    {
      "cell_type": "code",
      "source": [
        "df.to_csv(\"output.csv\")"
      ],
      "metadata": {
        "id": "mmq536SLmhke"
      },
      "execution_count": null,
      "outputs": []
    }
  ]
}